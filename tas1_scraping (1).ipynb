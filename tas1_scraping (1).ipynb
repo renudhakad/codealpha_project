{
 "cells": [
  {
   "cell_type": "markdown",
   "id": "d9ff4a9d-9150-4f3f-90b2-9f7a053541ec",
   "metadata": {},
   "source": [
    "# CodeAlpha Internship Tast 1: Web Scraping Project:"
   ]
  },
  {
   "cell_type": "markdown",
   "id": "06957fb4-c650-4f65-82f1-7fe5e91249d6",
   "metadata": {},
   "source": [
    "# My Target Website: https://books.toscrape.com/"
   ]
  },
  {
   "cell_type": "raw",
   "id": "1cf0949b-2150-406b-bd9c-d5e29ef2d9f5",
   "metadata": {},
   "source": [
    " importing Required Libraries"
   ]
  },
  {
   "cell_type": "code",
   "execution_count": 4,
   "id": "7866601f-c17f-421d-87c1-18ad5f735152",
   "metadata": {},
   "outputs": [],
   "source": [
    "import pandas as pd\n",
    "import requests \n",
    "from bs4 import BeautifulSoup\n",
    "import time\n",
    "import random"
   ]
  },
  {
   "cell_type": "code",
   "execution_count": null,
   "id": "f12f3e84-311e-4805-ada3-1ca72539953a",
   "metadata": {},
   "outputs": [],
   "source": [
    "# requests : to fetch the Html content of the webpage\n",
    "# beautifulsoup: to parse and extract data from the Html.\n",
    "# pandas: to store and save data in a structured format like csv.\n"
   ]
  },
  {
   "cell_type": "code",
   "execution_count": 5,
   "id": "b15277bd-cd08-4bd8-93bb-63ad8e2d8c47",
   "metadata": {},
   "outputs": [],
   "source": [
    "book_data=[]"
   ]
  },
  {
   "cell_type": "code",
   "execution_count": 6,
   "id": "afc8aabf-a896-41c3-a635-b073fc047a04",
   "metadata": {},
   "outputs": [],
   "source": [
    "for page in range(1,51):\n",
    "    url = f\"https://books.toscrape.com/catalogue/page-{page}.html\"\n",
    "    response = requests.get(url)\n",
    "    soup = BeautifulSoup(response.content,'html.parser')\n",
    "    books =soup.find_all('article',class_='product_pod')\n",
    "    for book in books:\n",
    "        title= book.h3.a['title']\n",
    "        price= book.find('p',class_='price_color').text.replace('A','').strip()\n",
    "        stock= book.find('p',class_='instock availability').text.strip()\n",
    "        rating= book.find('p',class_='star-rating')['class'][1]\n",
    "        book_data.append({'title':title,'price':price,'availability':stock,'rating':rating})\n",
    "    time.sleep(random.uniform(1,2))"
   ]
  },
  {
   "cell_type": "code",
   "execution_count": 7,
   "id": "65611a5e-32eb-4227-a4bd-cc51bcb08490",
   "metadata": {},
   "outputs": [],
   "source": [
    "# convert to dataframe and save"
   ]
  },
  {
   "cell_type": "code",
   "execution_count": 8,
   "id": "52b1d143-5ac1-49e1-9afd-c2a50f7ddb63",
   "metadata": {},
   "outputs": [],
   "source": [
    "df = pd.DataFrame(book_data)\n",
    "df.to_csv('books_data.csv',index=False,encoding='utf-8-sig')\n"
   ]
  },
  {
   "cell_type": "code",
   "execution_count": 9,
   "id": "639d6475-ea97-45a9-856a-cd22c6232e74",
   "metadata": {},
   "outputs": [
    {
     "data": {
      "text/html": [
       "<div>\n",
       "<style scoped>\n",
       "    .dataframe tbody tr th:only-of-type {\n",
       "        vertical-align: middle;\n",
       "    }\n",
       "\n",
       "    .dataframe tbody tr th {\n",
       "        vertical-align: top;\n",
       "    }\n",
       "\n",
       "    .dataframe thead th {\n",
       "        text-align: right;\n",
       "    }\n",
       "</style>\n",
       "<table border=\"1\" class=\"dataframe\">\n",
       "  <thead>\n",
       "    <tr style=\"text-align: right;\">\n",
       "      <th></th>\n",
       "      <th>title</th>\n",
       "      <th>price</th>\n",
       "      <th>availability</th>\n",
       "      <th>rating</th>\n",
       "    </tr>\n",
       "  </thead>\n",
       "  <tbody>\n",
       "    <tr>\n",
       "      <th>0</th>\n",
       "      <td>A Light in the Attic</td>\n",
       "      <td>£51.77</td>\n",
       "      <td>In stock</td>\n",
       "      <td>Three</td>\n",
       "    </tr>\n",
       "    <tr>\n",
       "      <th>1</th>\n",
       "      <td>Tipping the Velvet</td>\n",
       "      <td>£53.74</td>\n",
       "      <td>In stock</td>\n",
       "      <td>One</td>\n",
       "    </tr>\n",
       "    <tr>\n",
       "      <th>2</th>\n",
       "      <td>Soumission</td>\n",
       "      <td>£50.10</td>\n",
       "      <td>In stock</td>\n",
       "      <td>One</td>\n",
       "    </tr>\n",
       "    <tr>\n",
       "      <th>3</th>\n",
       "      <td>Sharp Objects</td>\n",
       "      <td>£47.82</td>\n",
       "      <td>In stock</td>\n",
       "      <td>Four</td>\n",
       "    </tr>\n",
       "    <tr>\n",
       "      <th>4</th>\n",
       "      <td>Sapiens: A Brief History of Humankind</td>\n",
       "      <td>£54.23</td>\n",
       "      <td>In stock</td>\n",
       "      <td>Five</td>\n",
       "    </tr>\n",
       "  </tbody>\n",
       "</table>\n",
       "</div>"
      ],
      "text/plain": [
       "                                   title   price availability rating\n",
       "0                   A Light in the Attic  £51.77     In stock  Three\n",
       "1                     Tipping the Velvet  £53.74     In stock    One\n",
       "2                             Soumission  £50.10     In stock    One\n",
       "3                          Sharp Objects  £47.82     In stock   Four\n",
       "4  Sapiens: A Brief History of Humankind  £54.23     In stock   Five"
      ]
     },
     "execution_count": 9,
     "metadata": {},
     "output_type": "execute_result"
    }
   ],
   "source": [
    "df =  pd.read_csv('books_data.csv')\n",
    "df.head()"
   ]
  },
  {
   "cell_type": "code",
   "execution_count": null,
   "id": "78fd5ca7-b833-4775-a910-68d04daeed6d",
   "metadata": {},
   "outputs": [],
   "source": []
  }
 ],
 "metadata": {
  "kernelspec": {
   "display_name": "Python 3 (ipykernel)",
   "language": "python",
   "name": "python3"
  },
  "language_info": {
   "codemirror_mode": {
    "name": "ipython",
    "version": 3
   },
   "file_extension": ".py",
   "mimetype": "text/x-python",
   "name": "python",
   "nbconvert_exporter": "python",
   "pygments_lexer": "ipython3",
   "version": "3.11.7"
  }
 },
 "nbformat": 4,
 "nbformat_minor": 5
}
